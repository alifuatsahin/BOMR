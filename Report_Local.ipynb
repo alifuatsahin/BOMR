{
 "cells": [
  {
   "cell_type": "markdown",
   "id": "c015d114",
   "metadata": {},
   "source": [
    "## 5. Local Avoidance"
   ]
  },
  {
   "cell_type": "markdown",
   "id": "b1d97ad2",
   "metadata": {},
   "source": [
    "The goal of this section is to allow the robot, in case an obstacle is not detected by the webcam and image processing section of the code, to avoid this \"invisible\" obstacle and to succesfully return on the optimal path that was computed with A star once there are no more obstacle detected. Our local avoidance was done using a form of ANN (artificial neural network), this type of local avoidance being chosen as it allowed the robot to move quite smoothly."
   ]
  },
  {
   "cell_type": "markdown",
   "id": "40ac0a46",
   "metadata": {},
   "source": [
    "In our main function, we first check that a path has been made to not check for local avoidance for no reasons. If it is good, an other check will be done to verify if we are walking down the path or trying to go back to it. A final check is made to see if we are far enough from the goal, as there is no point in making a local avoidance if we are already on the goal."
   ]
  },
  {
   "cell_type": "markdown",
   "id": "1df5576a",
   "metadata": {},
   "source": [
    "The local_nn function (given below) takes as argument th, a Thymio object as well as v, the linear velocity variable, as well as w, the rottional velocity variable. \n",
    "\n",
    "As it is based on ANN, weights for the horizontal sensors for the left and right motors are declared, the given values were find to give the best result for the used Thymio.\n",
    "\n",
    "Those weifhts are then multiplied by the sensors values.\n",
    "\n",
    "Finally, we subtract the right speed from the left one so that we can write it in the w variable, responsible for the rotation of the robot. The fact that we subrtract one from the other is the if the robot turn of a certain value to the left and of a certain value to the right, the total rotation will be the difference between the two, which is what we do here.\n",
    "\n",
    "The function then returns v and w that will be used to update the motors in the main."
   ]
  },
  {
   "cell_type": "code",
   "execution_count": null,
   "id": "5493262c",
   "metadata": {},
   "outputs": [],
   "source": [
    "def local_nn(th, v, w):\n",
    "    \n",
    "    #Weights\n",
    "\twl = [1, 2, 3, -2, -1, 1, -1]\n",
    "\twr = [-1, -2, -3, 2, 1, -1, 1]\n",
    "    \n",
    "\tscale = 40\n",
    "\tL = 95 #mm\n",
    "    \n",
    "    #Sensors value multiplied by the different weights\n",
    "\tspeedL = np.dot(th[\"prox.horizontal\"], wl)//scale\n",
    "\tspeedR = np.dot(th[\"prox.horizontal\"], wr)//scale\n",
    "\n",
    "    #Total rotation of the Thymio\n",
    "\tw = w + (speedR - speedL)/(2*L)\n",
    "\n",
    "\treturn v, w"
   ]
  }
 ],
 "metadata": {
  "kernelspec": {
   "display_name": "Python 3 (ipykernel)",
   "language": "python",
   "name": "python3"
  },
  "language_info": {
   "codemirror_mode": {
    "name": "ipython",
    "version": 3
   },
   "file_extension": ".py",
   "mimetype": "text/x-python",
   "name": "python",
   "nbconvert_exporter": "python",
   "pygments_lexer": "ipython3",
   "version": "3.11.5"
  }
 },
 "nbformat": 4,
 "nbformat_minor": 5
}
