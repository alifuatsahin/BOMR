{
 "cells": [
  {
   "cell_type": "markdown",
   "id": "c015d114",
   "metadata": {},
   "source": [
    "## 5. Local Avoidance"
   ]
  },
  {
   "cell_type": "markdown",
   "id": "b1d97ad2",
   "metadata": {},
   "source": [
    "The goal of this section is to allow the robot, in case an obstacle is not detected by the webcam and image processing section of the code, to avoid this \"invisible\" obstacle and to succesfully return on the optimal path that was computed with A star once there are no more obstacle detected. Our local avoidance was done using a form of ANN (artificial neural network)."
   ]
  },
  {
   "cell_type": "markdown",
   "id": "a6efae13",
   "metadata": {},
   "source": [
    "In our main function, an if-else statement first check if a path has indeed been made\n",
    "\n",
    "```python\n",
    "if path is None:\n",
    "    print('No path found')\n",
    "\tcontinue\n",
    "else:\n",
    "    ... #rest of the code\n",
    "```"
   ]
  },
  {
   "cell_type": "markdown",
   "id": "640c9c1a",
   "metadata": {},
   "source": [
    "Once it has been verified that a path as indeed been made, the program will check if we are walking down the path or trying to go back to it using an other if-else statement\n",
    "\n",
    "```python\n",
    "if correction_start:\n",
    "    ... #rest of the code if we are corresting the position\n",
    "else:\n",
    "    ... #rest of the code if we are not and where local avoidance is\n",
    "```"
   ]
  },
  {
   "cell_type": "markdown",
   "id": "bc8269bd",
   "metadata": {},
   "source": [
    "Another if statement will then check if we are far enough from the goal, because there is no point in making a local avoidance of obstacle if we are already on the goal. We can in the code (given below) that the variable u is use to store the value that is use for our PD controller which is the following : $$P * error + D * (error - prev\\_error)$$\n",
    "\n",
    "The local neural network function (local_nn) is then called.\n",
    "\n",
    "```python\n",
    "\n",
    "#Checks if we are not already on the goal\n",
    "if euclidean_distance(state[:2], goal_c) > 30 and iter >=0:\n",
    "    if projected_position(path, state[:2], iter) < 25 or euclidean_distance(state[:2], path[iter]) < 30:\n",
    "        iter -= 1\n",
    "    u = controller.control(state, path[iter])\n",
    "    u = local_nn(th, u[0], u[1])\n",
    "    predicted_state, P = filter.predict(state, P, u)\n",
    "\n",
    "    set_motors(th, u[0], u[1])\n",
    "\n",
    "#If we are on the goal, we stop\n",
    "else:\n",
    "    set_motors(th)\n",
    "```"
   ]
  },
  {
   "cell_type": "markdown",
   "id": "6b090783",
   "metadata": {},
   "source": [
    "The local_nn function takes as argument th which is the communication with the Thymio as well as v and w that are, as we can see in the main, the different components of the u variable.\n",
    "\n",
    "Because it is based an artificial neural network, we first declare weights for the different horizontal sensors that will impact the speed of the left and right wheel.\n",
    "\n",
    "So, in the function, wl is the weight of the sensors for the left wheel and wr is the weight of the sensors for the right wheel.\n",
    "The given values were find to be the most optimal one for the used Thymio.\n",
    "\n",
    "Than the speed of the left and right motors are calculated by multplying the different weights to the sensors values and dividing it by a scaling factor.\n",
    "\n",
    "Finally, we substract the left speed to the right one because if both sides have a change in speed, the result change for the robot is the difference between the two.\n",
    "\n",
    "The function then returns the v and w that will be stored in u (in the main) and will be used to update the motors speed."
   ]
  },
  {
   "cell_type": "markdown",
   "id": "2d1afd77",
   "metadata": {},
   "source": [
    "```python\n",
    "def local_nn(th, v, w):\n",
    "    \n",
    "    \n",
    "\twl = [1, 2, 3, -2, -1, 1, -1]\n",
    "\twr = [-1, -2, -3, 2, 1, -1, 1]\n",
    "\tscale = 40\n",
    "\tL = 95 #mm\n",
    "\tspeedL = np.dot(th[\"prox.horizontal\"], wl)//scale\n",
    "\tspeedR = np.dot(th[\"prox.horizontal\"], wr)//scale\n",
    "\n",
    "\tw = w + (speedR - speedL)/(2*L)\n",
    "\n",
    "\treturn v, w\n",
    "```"
   ]
  }
 ],
 "metadata": {
  "kernelspec": {
   "display_name": "Python 3 (ipykernel)",
   "language": "python",
   "name": "python3"
  },
  "language_info": {
   "codemirror_mode": {
    "name": "ipython",
    "version": 3
   },
   "file_extension": ".py",
   "mimetype": "text/x-python",
   "name": "python",
   "nbconvert_exporter": "python",
   "pygments_lexer": "ipython3",
   "version": "3.11.5"
  }
 },
 "nbformat": 4,
 "nbformat_minor": 5
}
