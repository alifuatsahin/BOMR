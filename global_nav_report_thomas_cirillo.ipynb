{
 "cells": [
  {
   "cell_type": "markdown",
   "id": "4b63c27c-f494-4bd0-8d40-a372e19b9162",
   "metadata": {},
   "source": [
    "## 3. Global Navigation\n"
   ]
  },
  {
   "cell_type": "markdown",
   "id": "ab8671e1-0f44-4c7a-b65f-823f738069dd",
   "metadata": {},
   "source": [
    "The goal of this section is to make the robot follow the desired path with the help of a controller. We compare two type of controler :\n",
    "- A *PD controller* \n",
    "- An *Astolfi controller*\n"
   ]
  },
  {
   "cell_type": "markdown",
   "id": "a926c4c0-285d-4d33-aee8-8d6fbc3dc883",
   "metadata": {},
   "source": [
    "### 3.1 PD coontroler\n",
    "\n",
    "**proportional-derivative (PD) controller** is a type of feedback control system commonly used i control theory. It has two main components: *proportional (P) control* and *derivative (D) control*. \n"
   ]
  },
  {
   "cell_type": "markdown",
   "id": "139ab0c8-1d8d-4268-9bf1-10e8cf3d9430",
   "metadata": {},
   "source": [
    "The equation for a PD controller :  \n",
    "$$c(t) = K_c(e(t) + T_d \\frac{de}{dt}) + C$$\n",
    "\n",
    "\n",
    "Therefore we defined a class **PD_controller** that contains : \n",
    "-  Initalisation : P (constant of proportionality of error signal), D (constant of proportionality of derivative of the error signal), time_step.\n",
    "-  A control method that take the error and the previous error to calculate the controller output. "
   ]
  },
  {
   "cell_type": "code",
   "execution_count": null,
   "metadata": {},
   "outputs": [],
   "source": []
  },
  {
   "cell_type": "markdown",
   "id": "6ee7ce98-a037-4858-b45d-ca9e91032901",
   "metadata": {},
   "source": [
    "### 3.2 Astolfi controller"
   ]
  },
  {
   "cell_type": "markdown",
   "id": "b5be9096-31b7-45dc-88ae-3aa80ec05da5",
   "metadata": {},
   "source": [
    "To smoothly modulate the forward and rotational velocities, we can use an **Astolfi controller**.\n"
   ]
  },
  {
   "cell_type": "code",
   "execution_count": null,
   "metadata": {},
   "outputs": [],
   "source": []
  },
  {
   "cell_type": "markdown",
   "id": "f6b85919-43fd-40e4-bfbd-27937aa2d733",
   "metadata": {},
   "source": [
    "<div style=\"text-align: center;\">\n",
    "  <img src=\"images\\coord_astolfi.png\"alt=\"Alt Text\" id=\"img_3.2.1\" width=\"300\">\n",
    "  <p style=\"text-align: center;\">Image 3.2.1: Polar and global coordinates of the Thymio</p>\n",
    "</div>\n",
    "\n"
   ]
  },
  {
   "cell_type": "markdown",
   "id": "f55cf8a3-68a7-4cd5-a3c0-5f05fa95eb8f",
   "metadata": {},
   "source": [
    "As shown in the figure above (<a href=\"#img_3.2.1\">Image 3.2.1</a>), we can define the global coordinates of the robots by using his local coordinates by using those equations : \n",
    "<div style=\"text-align: center;\">\n",
    "  <img src=\"images\\polar_astolfi.png\" alt=\"Alt Text\" id=\"img_3.2.2\" width=\"300\">\n",
    "  <p style=\"text-align: center;\">Image 3.2.2: Equations for polar coordinates</p>\n",
    "</div>\n",
    "\n",
    "\n",
    "The target is $\\alpha,\\rho,\\beta$ to be equal to (0,0,0)."
   ]
  },
  {
   "cell_type": "markdown",
   "id": "2708021e-2d76-4caa-ab26-bd97db28be9d",
   "metadata": {},
   "source": [
    "With this last set of equations, we can output the linear and angular velocities for the Thymio : \n",
    "\n",
    "<div style=\"text-align: center;\">\n",
    "  <img src=\"images\\final_astolfi.png\" alt=\"Alt Text\" id=\"img_3.2.3\" width=\"300\">\n",
    "  <p style=\"text-align: center;\">Image 3.2.3: Output of the controler</p>\n",
    "</div>\n"
   ]
  },
  {
   "cell_type": "markdown",
   "id": "7eb34a25-7b10-4d97-9d4f-2d8125f849e6",
   "metadata": {},
   "source": [
    "In our code this is all achived in the **astolfi_controller** class. We have :\n",
    "- The initialisation method defined $k_{\\rho}, k_{\\alpha}, k_{\\beta}$\n",
    "- The **_calculate_parameter** method calculate $\\rho,\\alpha, \\beta$ with the help of the goal and the postion of the robot.\n",
    "- The **control** method use the **_calculate_parameter** method to return the linear and angular velocities $(v, \\omega)$\n",
    "\n"
   ]
  },
  {
   "cell_type": "markdown",
   "id": "ce15d7ee-4188-4669-96cf-209811af65d7",
   "metadata": {},
   "source": [
    "### 3.3 Other functions for the navigation"
   ]
  },
  {
   "cell_type": "markdown",
   "id": "2bb89808-470f-41b0-85f9-b9fe76a0f74e",
   "metadata": {},
   "source": [
    "Many functions were develloped to implement the navigation part. Here is a recap of the most important functions  : \n",
    "\n",
    "\n",
    "\n",
    "\n",
    "\n"
   ]
  },
  {
   "cell_type": "markdown",
   "metadata": {},
   "source": [
    "- The **calculate_centroid** function computes the centroid of the four corners of an aruco marker. The resulting centroid is returned as a 2-dimensional vector: $\\text{{centroid}} = [(x_{\\text{{center}}}),(y_{\\text{{center}}})]$, where $x_{\\text{{center}}} = \\frac{x_1 + x_2 + x_3 + x_4}{4}$ and $y_{\\text{{center}}} = \\frac{y_1 + y_2 + y_3 + y_4}{4}$. The $x_{\\text{{center}}}$ and $y_{\\text{{center}}}$ are represented as an integer because we are working with pixels so we cannot use floating point numbers.\n"
   ]
  },
  {
   "cell_type": "markdown",
   "metadata": {},
   "source": [
    "- The **calculate_orientation** function determines the orientation vector for a robot marker based on the coordinates of its two top corners. The function calculates the middle point between the two top corners to obtain the end point of the orientation vector: $((x_{\\text{end}}, y_{\\text{end}})$ = $\\left(\\frac{x_1 + x_2}{2}, \\frac{y_1 + y_2}{2}\\right)$. It then computes the orientation vector by subtracting the centroid point, obtained using the **calculate_centroid** function, from the end point using the **vector function**."
   ]
  },
  {
   "cell_type": "markdown",
   "metadata": {},
   "source": [
    "- The **calculate_error** function calculates the error between the robot's position and a given path. The input parameters include the path and the current coordinates of the robot. The function iterates through each segment of the path, determining the projection of the robot's position onto the path. If the robot moves beyond the current path segment, the function calculates the error based on the distance between the robot and the nearest endpoint of the path segment. The sign of the error indicates whether the robot is to the right or left of the path, as determined by the **rel_orientation** function. The resulting error is returned, considering the sign and the Euclidean distance between the robot's centroid and the projected position on the path.\n"
   ]
  },
  {
   "cell_type": "markdown",
   "metadata": {},
   "source": []
  },
  {
   "cell_type": "markdown",
   "metadata": {},
   "source": []
  }
 ],
 "metadata": {
  "kernelspec": {
   "display_name": "Python 3 (ipykernel)",
   "language": "python",
   "name": "python3"
  },
  "language_info": {
   "codemirror_mode": {
    "name": "ipython",
    "version": 3
   },
   "file_extension": ".py",
   "mimetype": "text/x-python",
   "name": "python",
   "nbconvert_exporter": "python",
   "pygments_lexer": "ipython3",
   "version": "3.9.2"
  }
 },
 "nbformat": 4,
 "nbformat_minor": 5
}
