{
 "cells": [
  {
   "cell_type": "markdown",
   "id": "0561116d",
   "metadata": {},
   "source": [
    "# Report : Project of Basics of Mobile Robotics "
   ]
  },
  {
   "cell_type": "markdown",
   "id": "ec8acb39",
   "metadata": {},
   "source": [
    "Group members :\n",
    "\n",
    "- Cirillo Thomas\n",
    "- Muller Nathan\n",
    "- Sahin Ali Fuat\n",
    "- Vinet Pierre"
   ]
  },
  {
   "cell_type": "markdown",
   "metadata": {},
   "source": [
    "## Table of Contents\n",
    "\n",
    "- [Introduction](#introduction)\n",
    "- [1. Image Processing](#image-processing)\n",
    "- [2. Path Finding](#path-finding)\n",
    "- [3. Global Navigation](#global-navigation)\n",
    "- [4. Local Obstacle Avoidance](#local-obstacle-avoidance)\n",
    "- [5. Kalman Filter](#kalman-filter)\n",
    "- [Conclusion](#conclusion)\n"
   ]
  },
  {
   "cell_type": "markdown",
   "id": "e9791982",
   "metadata": {},
   "source": [
    "## Introduction"
   ]
  },
  {
   "cell_type": "markdown",
   "metadata": {},
   "source": [
    "### The Environment "
   ]
  },
  {
   "cell_type": "markdown",
   "id": "ec617551",
   "metadata": {},
   "source": [
    "Our environment consist of a white surface with Aruco markers on the different corners to be able to identify them using the webcam given to us. We first decided to use a white surface with a black grid but then decided to go with a fully white surface instead because we use a binary threshold to detect our obstacles which would then interpret the grid as an obstacle. To correct this we would had needed to specifically extract the grid to create a mask out of it and substract it to our image in order to not detect it as an obstacle but we would not need this if we used a simple white surface. We also decided that the obstacle were not just squared one and therefor the use of a grid made less sense. \n",
    "\n",
    "The start and the goal are represented as Aruco markers as well. The obstacle used for the global navigation are black objects because as said before we use a binary threshold to detect them and blakc works the best for this situation, and the one used for the local avoidance are white objects because since they have the same color as the surface they are not detected with our image processing program."
   ]
  },
  {
   "cell_type": "markdown",
   "id": "3c84bbed",
   "metadata": {},
   "source": [
    "### Object-Oriented Programming"
   ]
  },
  {
   "cell_type": "markdown",
   "metadata": {},
   "source": [
    "We chose an object-oriented approach because it offers a structured and intuitive way to encapsulate data and functions into objects, providing a clear and organized framework for our project. This choice allows us to efficiently manage relationships between various components, and easily modify or add new functionalities. "
   ]
  },
  {
   "cell_type": "markdown",
   "metadata": {},
   "source": [
    "### Code Structure"
   ]
  },
  {
   "cell_type": "markdown",
   "id": "73394082",
   "metadata": {},
   "source": [
    "The code is structured into different parts :\n",
    "\n",
    "- Image Processing\n",
    "- Kalman Filter\n",
    "- Pathfinding\n",
    "- Global Navigation\n",
    "- Local Avoidance"
   ]
  },
  {
   "cell_type": "markdown",
   "id": "5790079a",
   "metadata": {},
   "source": [
    "There is a different .py file for every part, "
   ]
  },
  {
   "cell_type": "markdown",
   "id": "a64d9673",
   "metadata": {},
   "source": [
    "## 1. Image Processing"
   ]
  },
  {
   "cell_type": "markdown",
   "id": "077c90eb",
   "metadata": {},
   "source": [
    "The goal of this part is to detect the different Aruco Markers at the corners of the environment in order to warp the image to focus on the wanted part of it. Then, the start and goal points are detected (they are represented as Aruco Markers) as well as the robot.\n",
    "\n",
    "At first, the image is taken using the given webcam :"
   ]
  },
  {
   "cell_type": "markdown",
   "id": "06c50eed",
   "metadata": {},
   "source": [
    "## 3. Path Planning"
   ]
  },
  {
   "cell_type": "markdown",
   "metadata": {},
   "source": [
    "The goal of this section is to find the shortest path between two points in a grid-like structure while minimizing the total cost associated with the path. <br/>\n",
    "We chose to use the A* star Algorithm because it it garanteed to find the shortest path and it is more efficient than other algorithms in terms of both time and memory usage.<br/>\n",
    "We use this algorithm to find the shortest path from the robot initial position to the robot targeted position. At this point of the project we are taking into account only the global obstacles visible from the camera, and not the local ones."
   ]
  }
 ],
 "metadata": {
  "kernelspec": {
   "display_name": "Python 3 (ipykernel)",
   "language": "python",
   "name": "python3"
  },
  "language_info": {
   "codemirror_mode": {
    "name": "ipython",
    "version": 3
   },
   "file_extension": ".py",
   "mimetype": "text/x-python",
   "name": "python",
   "nbconvert_exporter": "python",
   "pygments_lexer": "ipython3",
   "version": "3.11.5"
  }
 },
 "nbformat": 4,
 "nbformat_minor": 5
}
