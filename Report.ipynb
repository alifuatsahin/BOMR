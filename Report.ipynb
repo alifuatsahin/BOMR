{
 "cells": [
  {
   "cell_type": "markdown",
   "id": "0561116d",
   "metadata": {},
   "source": [
    "# Report : Project of Basics of Mobile Robotics "
   ]
  },
  {
   "cell_type": "markdown",
   "id": "ec8acb39",
   "metadata": {},
   "source": [
    "Group members :\n",
    "\n",
    "- Cirillo Thomas\n",
    "- Muller Nathan\n",
    "- Sahin Ali Fuat\n",
    "- Vinet Pierre"
   ]
  },
  {
   "cell_type": "markdown",
   "metadata": {},
   "source": [
    "## Table of Contents\n",
    "\n",
    "- [Introduction](#introduction-of-the-environment)\n",
    "- [1. Image Processing](#1.-image-processing)\n",
    "- [2. Path Planning](#path-planning)\n",
    "- [3. Local Navigation](#local-navigation)\n",
    "- [4. Obstacle Avoidance](#obstacle-avoidance)\n"
   ]
  },
  {
   "cell_type": "markdown",
   "id": "e9791982",
   "metadata": {},
   "source": [
    "## Introduction of the environment "
   ]
  },
  {
   "cell_type": "markdown",
   "id": "ec617551",
   "metadata": {},
   "source": [
    "Our environment consist of a white surface with Aruco markers on the different corners to be able to identify them using the webcam given to us. The start and the goal are represented as Aruco markers as well. The obstacle used for the global navigation are black objects and the one used for the local avoidance are white objects. "
   ]
  },
  {
   "cell_type": "markdown",
   "id": "3c84bbed",
   "metadata": {},
   "source": []
  },
  {
   "cell_type": "markdown",
   "id": "73394082",
   "metadata": {},
   "source": [
    "The code is structured into different parts :\n",
    "\n",
    "- Image Processing\n",
    "- Kalman Filter\n",
    "- Pathfinding\n",
    "- Navigation\n",
    "- ..."
   ]
  },
  {
   "cell_type": "markdown",
   "id": "5790079a",
   "metadata": {},
   "source": [
    "There is a different .py file for every part, "
   ]
  },
  {
   "cell_type": "markdown",
   "id": "0a1ba325",
   "metadata": {},
   "source": []
  },
  {
   "cell_type": "markdown",
   "id": "a64d9673",
   "metadata": {},
   "source": [
    "## 1. Image Processing"
   ]
  },
  {
   "cell_type": "markdown",
   "id": "077c90eb",
   "metadata": {},
   "source": [
    "The goal of this part is to detect the different Aruco Markers at the corners of the environment in order to warp the image to focus on the wanted part of it. Then, the start and goal points are detected (they are represented as Aruco Markers) as well as the robot.\n",
    "\n",
    "At first, the image is taken using the given webcam\n",
    "/n"
   ]
  },
  {
   "cell_type": "markdown",
   "id": "7da68dc9",
   "metadata": {},
   "source": []
  },
  {
   "cell_type": "markdown",
   "id": "43172889",
   "metadata": {},
   "source": []
  },
  {
   "cell_type": "markdown",
   "id": "06c50eed",
   "metadata": {},
   "source": []
  }
 ],
 "metadata": {
  "kernelspec": {
   "display_name": "Python 3 (ipykernel)",
   "language": "python",
   "name": "python3"
  },
  "language_info": {
   "codemirror_mode": {
    "name": "ipython",
    "version": 3
   },
   "file_extension": ".py",
   "mimetype": "text/x-python",
   "name": "python",
   "nbconvert_exporter": "python",
   "pygments_lexer": "ipython3",
   "version": "3.11.5"
  }
 },
 "nbformat": 4,
 "nbformat_minor": 5
}
