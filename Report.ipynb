{
  "nbformat": 4,
  "nbformat_minor": 0,
  "metadata": {
    "colab": {
      "provenance": [],
      "toc_visible": true,
      "include_colab_link": true
    },
    "kernelspec": {
      "name": "python3",
      "display_name": "Python 3"
    },
    "language_info": {
      "name": "python"
    }
  },
  "cells": [
    {
      "cell_type": "markdown",
      "metadata": {
        "id": "view-in-github",
        "colab_type": "text"
      },
      "source": [
        "<a href=\"https://colab.research.google.com/github/alifuatsahin/MOBR/blob/master/Report.ipynb\" target=\"_parent\"><img src=\"https://colab.research.google.com/assets/colab-badge.svg\" alt=\"Open In Colab\"/></a>"
      ]
    },
    {
      "cell_type": "markdown",
      "source": [
        "# Report : Project of Basics of Mobile Robotics"
      ],
      "metadata": {
        "id": "2zfo2esm_2Ty"
      }
    },
    {
      "cell_type": "code",
      "source": [
        "from google.colab import drive\n",
        "drive.mount('/content/drive')"
      ],
      "metadata": {
        "id": "t95-pb_6I7Zw"
      },
      "execution_count": null,
      "outputs": []
    },
    {
      "cell_type": "markdown",
      "source": [
        "Group members :\n",
        "\n",
        "- Cirillo Thomas\n",
        "- Muller Nathan\n",
        "- Sahin Ali Fuat\n",
        "- Vinet Pierre"
      ],
      "metadata": {
        "id": "EvBZ2RaE_8Z5"
      }
    },
    {
      "cell_type": "markdown",
      "source": [
        "## Table of Contents\n",
        "\n",
        "- [Introduction](#introduction)\n",
        "- [1. Image Processing](#image-processing)\n",
        "- [2. Path Finding](#path-finding)\n",
        "- [3. Global Navigation](#global-navigation)\n",
        "- [4. Local Obstacle Avoidance](#local-obstacle-avoidance)\n",
        "- [5. Kalman Filter](#kalman-filter)\n",
        "- [6. Motion Control](#motion-control)\n"
      ],
      "metadata": {
        "id": "TMc7JbH7EQm0"
      }
    },
    {
      "cell_type": "markdown",
      "source": [
        "## Introduction of the environment\n"
      ],
      "metadata": {
        "id": "nlXRQrF6ABCP"
      }
    },
    {
      "cell_type": "markdown",
      "source": [
        "Our environment consist of a white surface with Aruco markers on the different corners to be able to identify them using the webcam given to us. We first decided to use a white surface with a black grid but then decided to go with a fully white surface instead because we use a binary threshold to detect our obstacles which would then interpret the grid as an obstacle. To correct this we would had needed to specifically extract the grid to create a mask out of it and substract it to our image in order to not detect it as an obstacle but we would not need this if we used a simple white surface. We also decided that the obstacle were not just squared one and therefor the use of a grid made less sense.\n",
        "\n",
        "The start and the goal are represented as Aruco markers as well. The obstacle used for the global navigation are black objects because as said before we use a binary threshold to detect them and blakc works the best for this situation, and the one used for the local avoidance are white objects because since they have the same color as the surface they are not detected with our image processing program."
      ],
      "metadata": {
        "id": "Fu5lSGMKADql"
      }
    },
    {
      "cell_type": "markdown",
      "source": [
        "The code is structured into different parts :\n",
        "\n",
        "- Image Processing\n",
        "- Kalman Filter\n",
        "- Pathfinding\n",
        "- Global Navigation\n",
        "- Local Avoidance"
      ],
      "metadata": {
        "id": "4m7rDGUBAKzj"
      }
    },
    {
      "cell_type": "markdown",
      "source": [
        "## 1. Image Processing\n"
      ],
      "metadata": {
        "id": "kOZAPQ4wANt0"
      }
    },
    {
      "cell_type": "markdown",
      "source": [
        "The goal of this part is to detect the different Aruco Markers at the corners of the environment in order to warp the image to focus on the wanted part of it. Then, the start and goal points are detected (they are represented as Aruco Markers) as well as the robot.\n",
        "\n",
        "At first, the image is taken using the given webcam :"
      ],
      "metadata": {
        "id": "LgdinUFpAQHS"
      }
    },
    {
      "cell_type": "code",
      "source": [],
      "metadata": {
        "id": "ear9fCDHARFg"
      },
      "execution_count": null,
      "outputs": []
    },
    {
      "cell_type": "markdown",
      "source": [
        "## 3. Path Planning"
      ],
      "metadata": {
        "id": "IsctWEYzATC4"
      }
    },
    {
      "cell_type": "markdown",
      "source": [
        "The goal of this section is to find the shortest path between two points in a grid-like structure while minimizing the total cost associated with the path. <br/>\n",
        "We chose to use the A* star Algorithm because it it garanteed to find the shortest path and it is more efficient than other algorithms in terms of both time and memory usage.<br/>\n",
        "We use this algorithm to find the shortest path from the robot initial position to the robot targeted position. At this point of the project we are taking into account only the global obstacles visible from the camera, and not the local ones."
      ],
      "metadata": {
        "id": "Hv9gD044AWFH"
      }
    },
    {
      "cell_type": "code",
      "source": [],
      "metadata": {
        "id": "fXVL0H_cAZxB"
      },
      "execution_count": null,
      "outputs": []
    }
  ]
}